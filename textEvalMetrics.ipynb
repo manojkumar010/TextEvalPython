{
 "cells": [
  {
   "cell_type": "code",
   "execution_count": 3,
   "metadata": {},
   "outputs": [],
   "source": [
    "import pandas as pd\n",
    "from rouge import Rouge\n",
    "from nltk.translate.bleu_score import sentence_bleu"
   ]
  },
  {
   "cell_type": "code",
   "execution_count": 4,
   "metadata": {},
   "outputs": [],
   "source": [
    "# Load the Excel sheet\n",
    "df = pd.read_excel(r'C:\\Users\\kumar\\OneDrive\\Desktop\\Programs\\officeP\\testData.xlsx')"
   ]
  },
  {
   "cell_type": "code",
   "execution_count": 5,
   "metadata": {},
   "outputs": [
    {
     "data": {
      "text/html": [
       "<div>\n",
       "<style scoped>\n",
       "    .dataframe tbody tr th:only-of-type {\n",
       "        vertical-align: middle;\n",
       "    }\n",
       "\n",
       "    .dataframe tbody tr th {\n",
       "        vertical-align: top;\n",
       "    }\n",
       "\n",
       "    .dataframe thead th {\n",
       "        text-align: right;\n",
       "    }\n",
       "</style>\n",
       "<table border=\"1\" class=\"dataframe\">\n",
       "  <thead>\n",
       "    <tr style=\"text-align: right;\">\n",
       "      <th></th>\n",
       "      <th>Summary</th>\n",
       "      <th>referenceSummary</th>\n",
       "      <th>Rouge</th>\n",
       "      <th>Blue</th>\n",
       "    </tr>\n",
       "  </thead>\n",
       "  <tbody>\n",
       "    <tr>\n",
       "      <th>0</th>\n",
       "      <td>The cat sat on the mat.</td>\n",
       "      <td>The cat sat on the mat.</td>\n",
       "      <td>NaN</td>\n",
       "      <td>NaN</td>\n",
       "    </tr>\n",
       "    <tr>\n",
       "      <th>1</th>\n",
       "      <td>The dog chased the ball.</td>\n",
       "      <td>The dog ran after the ball.</td>\n",
       "      <td>NaN</td>\n",
       "      <td>NaN</td>\n",
       "    </tr>\n",
       "    <tr>\n",
       "      <th>2</th>\n",
       "      <td>The bird flew in the sky.</td>\n",
       "      <td>A bird was soaring in the clear sky.</td>\n",
       "      <td>NaN</td>\n",
       "      <td>NaN</td>\n",
       "    </tr>\n",
       "    <tr>\n",
       "      <th>3</th>\n",
       "      <td>The flowers bloomed in spring.</td>\n",
       "      <td>The garden was filled with blooming flowers.</td>\n",
       "      <td>NaN</td>\n",
       "      <td>NaN</td>\n",
       "    </tr>\n",
       "  </tbody>\n",
       "</table>\n",
       "</div>"
      ],
      "text/plain": [
       "                          Summary  \\\n",
       "0         The cat sat on the mat.   \n",
       "1        The dog chased the ball.   \n",
       "2       The bird flew in the sky.   \n",
       "3  The flowers bloomed in spring.   \n",
       "\n",
       "                               referenceSummary  Rouge  Blue  \n",
       "0                       The cat sat on the mat.    NaN   NaN  \n",
       "1                   The dog ran after the ball.    NaN   NaN  \n",
       "2          A bird was soaring in the clear sky.    NaN   NaN  \n",
       "3  The garden was filled with blooming flowers.    NaN   NaN  "
      ]
     },
     "execution_count": 5,
     "metadata": {},
     "output_type": "execute_result"
    }
   ],
   "source": [
    "df.head()"
   ]
  },
  {
   "cell_type": "code",
   "execution_count": 6,
   "metadata": {},
   "outputs": [],
   "source": [
    "# Create empty columns for ROUGE and BLEU scores\n",
    "df['Rouge'] = None\n",
    "df['Blue'] = None"
   ]
  },
  {
   "cell_type": "code",
   "execution_count": 7,
   "metadata": {},
   "outputs": [],
   "source": [
    "# Instantiate ROUGE and BLEU objects\n",
    "rouge = Rouge()"
   ]
  },
  {
   "cell_type": "code",
   "execution_count": 8,
   "metadata": {},
   "outputs": [
    {
     "name": "stderr",
     "output_type": "stream",
     "text": [
      "c:\\Users\\kumar\\OneDrive\\Desktop\\Programs\\VirtualENV\\lib\\site-packages\\nltk\\translate\\bleu_score.py:552: UserWarning: \n",
      "The hypothesis contains 0 counts of 3-gram overlaps.\n",
      "Therefore the BLEU score evaluates to 0, independently of\n",
      "how many N-gram overlaps of lower order it contains.\n",
      "Consider using lower n-gram order or use SmoothingFunction()\n",
      "  warnings.warn(_msg)\n",
      "c:\\Users\\kumar\\OneDrive\\Desktop\\Programs\\VirtualENV\\lib\\site-packages\\nltk\\translate\\bleu_score.py:552: UserWarning: \n",
      "The hypothesis contains 0 counts of 4-gram overlaps.\n",
      "Therefore the BLEU score evaluates to 0, independently of\n",
      "how many N-gram overlaps of lower order it contains.\n",
      "Consider using lower n-gram order or use SmoothingFunction()\n",
      "  warnings.warn(_msg)\n",
      "c:\\Users\\kumar\\OneDrive\\Desktop\\Programs\\VirtualENV\\lib\\site-packages\\nltk\\translate\\bleu_score.py:552: UserWarning: \n",
      "The hypothesis contains 0 counts of 2-gram overlaps.\n",
      "Therefore the BLEU score evaluates to 0, independently of\n",
      "how many N-gram overlaps of lower order it contains.\n",
      "Consider using lower n-gram order or use SmoothingFunction()\n",
      "  warnings.warn(_msg)\n"
     ]
    }
   ],
   "source": [
    "# Iterate through each row and calculate scores\n",
    "for index, row in df.iterrows():\n",
    "   summary = row['Summary']\n",
    "   reference_summary = row['referenceSummary']\n",
    "\n",
    "   # Calculate ROUGE scores\n",
    "   rouge_scores = rouge.get_scores(summary, reference_summary)\n",
    "   rouge_1 = rouge_scores[0]['rouge-1']['f']\n",
    "   rouge_2 = rouge_scores[0]['rouge-2']['f']\n",
    "   rouge_l = rouge_scores[0]['rouge-l']['f']\n",
    "\n",
    "   # Calculate BLEU score\n",
    "   bleu_score = sentence_bleu([reference_summary.split()], summary.split())\n",
    "\n",
    "   # Store scores in the DataFrame\n",
    "   df.loc[index, 'Rouge'] = f\"{rouge_1:.4f}, {rouge_2:.4f}, {rouge_l:.4f}\"  # Store multiple ROUGE scores\n",
    "   df.loc[index, 'Blue'] = bleu_score\n"
   ]
  },
  {
   "cell_type": "code",
   "execution_count": 9,
   "metadata": {},
   "outputs": [],
   "source": [
    "# Save the modified DataFrame with scores\n",
    "df.to_excel('output_with_scores.xlsx', index=False)"
   ]
  }
 ],
 "metadata": {
  "kernelspec": {
   "display_name": "VirtualENV",
   "language": "python",
   "name": "python3"
  },
  "language_info": {
   "codemirror_mode": {
    "name": "ipython",
    "version": 3
   },
   "file_extension": ".py",
   "mimetype": "text/x-python",
   "name": "python",
   "nbconvert_exporter": "python",
   "pygments_lexer": "ipython3",
   "version": "3.9.13"
  }
 },
 "nbformat": 4,
 "nbformat_minor": 2
}
